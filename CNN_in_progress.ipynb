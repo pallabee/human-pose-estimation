{
  "nbformat": 4,
  "nbformat_minor": 0,
  "metadata": {
    "colab": {
      "name": "Task2.2.ipynb",
      "provenance": []
    },
    "kernelspec": {
      "name": "python3",
      "display_name": "Python 3"
    },
    "language_info": {
      "name": "python"
    },
    "accelerator": "GPU"
  },
  "cells": [
    {
      "cell_type": "code",
      "metadata": {
        "id": "1-BqsK1wwanc"
      },
      "source": [
        "import pandas as pd\n",
        "import numpy as np\n",
        "import matplotlib.pyplot as plt\n",
        "import torch\n",
        "import torchvision\n",
        "from torchvision import transforms\n",
        "import torch.nn as nn\n",
        "import torch.nn.functional as F\n",
        "from scipy.io import loadmat\n",
        "from torch.utils.data import DataLoader, Dataset\n",
        "from torch.autograd import Variable"
      ],
      "execution_count": 1,
      "outputs": []
    },
    {
      "cell_type": "code",
      "metadata": {
        "colab": {
          "base_uri": "https://localhost:8080/"
        },
        "id": "GqRAvuF9xSCx",
        "outputId": "db520804-a62a-4b90-c618-f8167e87ed64"
      },
      "source": [
        "!wget http://ufldl.stanford.edu/housenumbers/train_32x32.mat\n",
        "!wget http://ufldl.stanford.edu/housenumbers/test_32x32.mat"
      ],
      "execution_count": 2,
      "outputs": [
        {
          "output_type": "stream",
          "text": [
            "--2021-04-27 07:58:19--  http://ufldl.stanford.edu/housenumbers/train_32x32.mat\n",
            "Resolving ufldl.stanford.edu (ufldl.stanford.edu)... 171.64.68.10\n",
            "Connecting to ufldl.stanford.edu (ufldl.stanford.edu)|171.64.68.10|:80... connected.\n",
            "HTTP request sent, awaiting response... 200 OK\n",
            "Length: 182040794 (174M) [text/plain]\n",
            "Saving to: ‘train_32x32.mat’\n",
            "\n",
            "train_32x32.mat     100%[===================>] 173.61M  55.4MB/s    in 3.1s    \n",
            "\n",
            "2021-04-27 07:58:22 (55.4 MB/s) - ‘train_32x32.mat’ saved [182040794/182040794]\n",
            "\n",
            "--2021-04-27 07:58:22--  http://ufldl.stanford.edu/housenumbers/test_32x32.mat\n",
            "Resolving ufldl.stanford.edu (ufldl.stanford.edu)... 171.64.68.10\n",
            "Connecting to ufldl.stanford.edu (ufldl.stanford.edu)|171.64.68.10|:80... connected.\n",
            "HTTP request sent, awaiting response... 200 OK\n",
            "Length: 64275384 (61M) [text/plain]\n",
            "Saving to: ‘test_32x32.mat’\n",
            "\n",
            "test_32x32.mat      100%[===================>]  61.30M  53.5MB/s    in 1.1s    \n",
            "\n",
            "2021-04-27 07:58:23 (53.5 MB/s) - ‘test_32x32.mat’ saved [64275384/64275384]\n",
            "\n"
          ],
          "name": "stdout"
        }
      ]
    },
    {
      "cell_type": "code",
      "metadata": {
        "id": "q7259Y8jxhF4"
      },
      "source": [
        "class SVHN_dataset(Dataset):\n",
        "\n",
        "    def __init__(self, data,transform):\n",
        "        # Transform data to Torch Tensors\n",
        "        self.images = torch.tensor(data['X']).permute([3,2,0,1])\n",
        "        self.labels = torch.tensor(data['y'])\n",
        "        self.size = self.labels.shape[0]\n",
        "\n",
        "        # replace label 10 with label 0\n",
        "        self.labels[self.labels==10] = 0\n",
        "        # convert to float and normalize images to 0..1 range\n",
        "        self.images = torch.FloatTensor(self.images/255.)\n",
        "        self.transform = transform\n",
        "\n",
        "    def __len__(self):\n",
        "        return self.size\n",
        "\n",
        "    def __getitem__(self, idx):\n",
        "        return self.images[idx], self.labels[idx]"
      ],
      "execution_count": 3,
      "outputs": []
    },
    {
      "cell_type": "code",
      "metadata": {
        "id": "Y5ce1H_AxsJu"
      },
      "source": [
        "class CNN(nn.Module):\n",
        "  def __init__(self):\n",
        "    super(CNN, self).__init__()\n",
        "\n",
        "    self.layer1 = nn.Sequential(\n",
        "        nn.Conv2d(3,6,(5,5),padding=2,stride=1),\n",
        "        nn.BatchNorm2d(6),\n",
        "        nn.ReLU(),\n",
        "        nn.MaxPool2d(kernel_size=2, stride=2)\n",
        "    )\n",
        "    self.layer2 = nn.Sequential(\n",
        "        nn.Conv2d(6,12,(3,3),padding=1,stride=1),\n",
        "        nn.BatchNorm2d(12),\n",
        "        nn.ReLU(),\n",
        "        nn.MaxPool2d(kernel_size=2, stride=2)\n",
        "    )\n",
        "    self.layer3 = nn.Sequential(\n",
        "        nn.Conv2d(12,24,(3,3),padding=1,stride=1),\n",
        "        nn.BatchNorm2d(24),\n",
        "        nn.ReLU(),\n",
        "        nn.MaxPool2d(kernel_size=2, stride=2)\n",
        "    )\n",
        "\n",
        "    self.fc1 = nn.Linear(in_features=24*4*4, out_features=120)\n",
        "    self.fc2 = nn.Linear(in_features=120, out_features=60)\n",
        "    self.out = nn.Linear(in_features=60, out_features=10)\n",
        "  \n",
        "\n",
        "  def forward(self, x):\n",
        "    out = self.layer1(x)\n",
        "    # print(out.shape)\n",
        "\n",
        "    out = self.layer2(out)\n",
        "    # print(out.shape)\n",
        "\n",
        "    out = self.layer3(out)\n",
        "    # print(out.shape)\n",
        "\n",
        "    out = out.reshape(-1, 24 * 4 * 4)\n",
        "    out = self.fc1(out)\n",
        "    out = F.relu(out)\n",
        "\n",
        "    out = self.fc2(out)\n",
        "    out = F.relu(out)\n",
        "\n",
        "    out = self.out(out)\n",
        "    out = F.softmax(out)\n",
        "    # print(out.shape)\n",
        "\n",
        "    return out"
      ],
      "execution_count": 4,
      "outputs": []
    },
    {
      "cell_type": "code",
      "metadata": {
        "id": "aYUoXvYgx-z2"
      },
      "source": [
        "# initialize weights of CNN layers\n",
        "def init_weights(m):\n",
        "  mean = 0.0\n",
        "  std = 0.001\n",
        "  if isinstance(m, nn.Conv2d):\n",
        "    m.weight.data.normal_(mean,std)\n",
        "    if m.bias is not None:\n",
        "      nn.init.constant_(m.bias.data, 0)\n",
        "  elif isinstance(m, nn.BatchNorm2d):\n",
        "    m.weight.data.normal_(mean,std)\n",
        "    if m.bias is not None:\n",
        "      nn.init.constant_(m.bias.data, 0)\n",
        "  elif isinstance(m, nn.Linear):\n",
        "    m.weight.data.normal_(mean,std)\n",
        "    if m.bias is not None:\n",
        "      nn.init.constant_(m.bias.data, 0)"
      ],
      "execution_count": 5,
      "outputs": []
    },
    {
      "cell_type": "code",
      "metadata": {
        "id": "Q4SdABhzyHEe"
      },
      "source": [
        "transform = transforms.Compose(\n",
        "      [\n",
        "        transforms.ToTensor(),\n",
        "        transforms.Normalize([0.5, 0.5, 0.5], [0.5, 0.5, 0.5])\n",
        "        ]\n",
        "    )"
      ],
      "execution_count": 6,
      "outputs": []
    },
    {
      "cell_type": "code",
      "metadata": {
        "id": "lI1bwZAmyN6x"
      },
      "source": [
        "train = loadmat('train_32x32.mat')\n",
        "test = loadmat('test_32x32.mat')"
      ],
      "execution_count": 7,
      "outputs": []
    },
    {
      "cell_type": "code",
      "metadata": {
        "colab": {
          "base_uri": "https://localhost:8080/"
        },
        "id": "G5_dkvEOyUmk",
        "outputId": "76f7c8d0-d91c-4cb1-9f7c-de9d39692501"
      },
      "source": [
        "print(train['X'].shape)"
      ],
      "execution_count": 8,
      "outputs": [
        {
          "output_type": "stream",
          "text": [
            "(32, 32, 3, 73257)\n"
          ],
          "name": "stdout"
        }
      ]
    },
    {
      "cell_type": "code",
      "metadata": {
        "id": "khffsSMayaA7"
      },
      "source": [
        "train_SVHNdataset = SVHN_dataset(data = train, transform = transform)\n",
        "test_SVHNdataset = SVHN_dataset(data = test, transform = transform)"
      ],
      "execution_count": 9,
      "outputs": []
    },
    {
      "cell_type": "code",
      "metadata": {
        "id": "tq58fVNzyhkO"
      },
      "source": [
        "params = {'batch_size': 512,\n",
        "          'shuffle': True,\n",
        "          'num_workers': 1,\n",
        "          'pin_memory':True}"
      ],
      "execution_count": 10,
      "outputs": []
    },
    {
      "cell_type": "code",
      "metadata": {
        "id": "_7tIoyY0yosm"
      },
      "source": [
        "trainSVHN_loader = DataLoader(train_SVHNdataset, **params)\n",
        "testSVHN_loader = DataLoader(test_SVHNdataset, **params)"
      ],
      "execution_count": 11,
      "outputs": []
    },
    {
      "cell_type": "code",
      "metadata": {
        "colab": {
          "base_uri": "https://localhost:8080/"
        },
        "id": "LiA0q7YIyuyF",
        "outputId": "5fca1043-b9c5-41a4-fd9d-51fdb9c2275b"
      },
      "source": [
        "model = CNN()\n",
        "model.apply(init_weights)\n",
        "device = torch.device(\"cuda:0\" if torch.cuda.is_available() else cpu)\n",
        "print(device)"
      ],
      "execution_count": 12,
      "outputs": [
        {
          "output_type": "stream",
          "text": [
            "cuda:0\n"
          ],
          "name": "stdout"
        }
      ]
    },
    {
      "cell_type": "code",
      "metadata": {
        "colab": {
          "base_uri": "https://localhost:8080/"
        },
        "id": "enn9lWLRy118",
        "outputId": "d22a2c75-a984-41e9-b4c5-d5d8692007cc"
      },
      "source": [
        "model.to(device)"
      ],
      "execution_count": 13,
      "outputs": [
        {
          "output_type": "execute_result",
          "data": {
            "text/plain": [
              "CNN(\n",
              "  (layer1): Sequential(\n",
              "    (0): Conv2d(3, 6, kernel_size=(5, 5), stride=(1, 1), padding=(2, 2))\n",
              "    (1): BatchNorm2d(6, eps=1e-05, momentum=0.1, affine=True, track_running_stats=True)\n",
              "    (2): ReLU()\n",
              "    (3): MaxPool2d(kernel_size=2, stride=2, padding=0, dilation=1, ceil_mode=False)\n",
              "  )\n",
              "  (layer2): Sequential(\n",
              "    (0): Conv2d(6, 12, kernel_size=(3, 3), stride=(1, 1), padding=(1, 1))\n",
              "    (1): BatchNorm2d(12, eps=1e-05, momentum=0.1, affine=True, track_running_stats=True)\n",
              "    (2): ReLU()\n",
              "    (3): MaxPool2d(kernel_size=2, stride=2, padding=0, dilation=1, ceil_mode=False)\n",
              "  )\n",
              "  (layer3): Sequential(\n",
              "    (0): Conv2d(12, 24, kernel_size=(3, 3), stride=(1, 1), padding=(1, 1))\n",
              "    (1): BatchNorm2d(24, eps=1e-05, momentum=0.1, affine=True, track_running_stats=True)\n",
              "    (2): ReLU()\n",
              "    (3): MaxPool2d(kernel_size=2, stride=2, padding=0, dilation=1, ceil_mode=False)\n",
              "  )\n",
              "  (fc1): Linear(in_features=384, out_features=120, bias=True)\n",
              "  (fc2): Linear(in_features=120, out_features=60, bias=True)\n",
              "  (out): Linear(in_features=60, out_features=10, bias=True)\n",
              ")"
            ]
          },
          "metadata": {
            "tags": []
          },
          "execution_count": 13
        }
      ]
    },
    {
      "cell_type": "code",
      "metadata": {
        "id": "QL_q2pXuy9ls"
      },
      "source": [
        "learning_rate = 0.001\n",
        "lossfunc = nn.CrossEntropyLoss()\n",
        "optimizer = torch.optim.Adam(model.parameters(),lr=learning_rate)"
      ],
      "execution_count": 14,
      "outputs": []
    },
    {
      "cell_type": "code",
      "metadata": {
        "colab": {
          "base_uri": "https://localhost:8080/"
        },
        "id": "wKRA5Y_gzCuH",
        "outputId": "0d8f3dac-77c5-4a37-8bd0-16bbf8d0bfb6"
      },
      "source": [
        "num_epochs = 50\n",
        "# loss_values = list()\n",
        "for epoch in range(num_epochs):\n",
        "    # Training\n",
        "    training_loss = 0\n",
        "    model.train()\n",
        "    for X_train, y_train in trainSVHN_loader:\n",
        "      # Transfer to GPU\n",
        "      X_train_tensor = torch.tensor(X_train, dtype = torch.float)\n",
        "      y_train_tensor = torch.tensor(y_train, dtype = torch.long)\n",
        "\n",
        "      images, labels = Variable(X_train_tensor).to(device), Variable(y_train_tensor).to(device)\n",
        "\n",
        "      # model computation\n",
        "      outputs = model(images)\n",
        "      target = labels.squeeze()\n",
        "      loss = lossfunc(outputs, target)\n",
        "      optimizer.zero_grad()\n",
        "      loss.backward()\n",
        "      optimizer.step()\n",
        "\n",
        "      training_loss += loss.item()\n",
        "    training_loss /= len(trainSVHN_loader)\n",
        "    print('Epoch -',epoch, 'training loss - ', training_loss)\n",
        "print('Finished Training')\n",
        "      # loss_values.append(loss.item())"
      ],
      "execution_count": 44,
      "outputs": [
        {
          "output_type": "stream",
          "text": [
            "/usr/local/lib/python3.7/dist-packages/ipykernel_launcher.py:9: UserWarning: To copy construct from a tensor, it is recommended to use sourceTensor.clone().detach() or sourceTensor.clone().detach().requires_grad_(True), rather than torch.tensor(sourceTensor).\n",
            "  if __name__ == '__main__':\n",
            "/usr/local/lib/python3.7/dist-packages/ipykernel_launcher.py:10: UserWarning: To copy construct from a tensor, it is recommended to use sourceTensor.clone().detach() or sourceTensor.clone().detach().requires_grad_(True), rather than torch.tensor(sourceTensor).\n",
            "  # Remove the CWD from sys.path while we load stuff.\n",
            "/usr/local/lib/python3.7/dist-packages/ipykernel_launcher.py:47: UserWarning: Implicit dimension choice for softmax has been deprecated. Change the call to include dim=X as an argument.\n"
          ],
          "name": "stderr"
        },
        {
          "output_type": "stream",
          "text": [
            "Epoch - 0 training loss -  1.716782555811935\n",
            "Epoch - 1 training loss -  1.7175701384743054\n",
            "Epoch - 2 training loss -  1.7141869970493846\n",
            "Epoch - 3 training loss -  1.7148590460419655\n",
            "Epoch - 4 training loss -  1.7145718153980043\n",
            "Epoch - 5 training loss -  1.7141468649109204\n",
            "Epoch - 6 training loss -  1.7146702425347433\n",
            "Epoch - 7 training loss -  1.7134913197822041\n",
            "Epoch - 8 training loss -  1.714101054602199\n",
            "Epoch - 9 training loss -  1.7125893690519862\n",
            "Epoch - 10 training loss -  1.7143131411737866\n",
            "Epoch - 11 training loss -  1.713500080837144\n",
            "Epoch - 12 training loss -  1.713014327817493\n",
            "Epoch - 13 training loss -  1.7135022911760542\n",
            "Epoch - 14 training loss -  1.7130928842557802\n",
            "Epoch - 15 training loss -  1.7128936590419874\n",
            "Epoch - 16 training loss -  1.711631313794189\n",
            "Epoch - 17 training loss -  1.7114187106490135\n",
            "Epoch - 18 training loss -  1.711958047416475\n",
            "Epoch - 19 training loss -  1.7116016679339938\n",
            "Epoch - 20 training loss -  1.7124073488844767\n",
            "Epoch - 21 training loss -  1.7139276845587625\n",
            "Epoch - 22 training loss -  1.7124460778302617\n",
            "Epoch - 23 training loss -  1.711950071156025\n",
            "Epoch - 24 training loss -  1.7118957042694092\n",
            "Epoch - 25 training loss -  1.7116342476672597\n",
            "Epoch - 26 training loss -  1.7163884341716766\n",
            "Epoch - 27 training loss -  1.7102635395195749\n",
            "Epoch - 28 training loss -  1.7108474299311638\n",
            "Epoch - 29 training loss -  1.7114622857835557\n",
            "Epoch - 30 training loss -  1.7095550836788282\n",
            "Epoch - 31 training loss -  1.7122100103232596\n",
            "Epoch - 32 training loss -  1.7125160702400737\n",
            "Epoch - 33 training loss -  1.7096885724200144\n",
            "Epoch - 34 training loss -  1.7088379909594853\n",
            "Epoch - 35 training loss -  1.7090740261806383\n",
            "Epoch - 36 training loss -  1.7094112891289923\n",
            "Epoch - 37 training loss -  1.7095590689116054\n",
            "Epoch - 38 training loss -  1.7132978199256792\n",
            "Epoch - 39 training loss -  1.7083030401004686\n",
            "Epoch - 40 training loss -  1.7099121361970901\n",
            "Epoch - 41 training loss -  1.7081507088409529\n",
            "Epoch - 42 training loss -  1.7078515622350905\n",
            "Epoch - 43 training loss -  1.707951659957568\n",
            "Epoch - 44 training loss -  1.711521127157741\n",
            "Epoch - 45 training loss -  1.7083854186866019\n",
            "Epoch - 46 training loss -  1.7081025342146556\n",
            "Epoch - 47 training loss -  1.7088208604190085\n",
            "Epoch - 48 training loss -  1.7075183333622084\n",
            "Epoch - 49 training loss -  1.7089241685138807\n",
            "Finished Training\n"
          ],
          "name": "stdout"
        }
      ]
    },
    {
      "cell_type": "code",
      "metadata": {
        "colab": {
          "base_uri": "https://localhost:8080/"
        },
        "id": "_xftIDLJzUKf",
        "outputId": "3d6b0b8b-152a-48bd-bcea-cfef17cb50f4"
      },
      "source": [
        "model.eval()\n",
        "with torch.no_grad():\n",
        "  correct = 0\n",
        "  batches = 0\n",
        "  for X_test, y_test in testSVHN_loader:\n",
        "      X_test_tensor = torch.tensor(X_test, dtype = torch.float)\n",
        "      y_test_tensor = torch.tensor(y_test, dtype = torch.long)\n",
        "      images, labels = Variable(X_test_tensor).to(device), Variable(y_test_tensor).to(device)\n",
        "      outputs = model(images)\n",
        "      target = labels.squeeze()\n",
        "      _, predicted = torch.max(outputs.data, 1)\n",
        "      batches += labels.size(0)\n",
        "      correct += (predicted == target).sum().item()\n",
        "\n",
        "  print('Test Accuracy of the model: {} %'.format(100 * correct / batches))"
      ],
      "execution_count": 41,
      "outputs": [
        {
          "output_type": "stream",
          "text": [
            "/usr/local/lib/python3.7/dist-packages/ipykernel_launcher.py:6: UserWarning: To copy construct from a tensor, it is recommended to use sourceTensor.clone().detach() or sourceTensor.clone().detach().requires_grad_(True), rather than torch.tensor(sourceTensor).\n",
            "  \n",
            "/usr/local/lib/python3.7/dist-packages/ipykernel_launcher.py:7: UserWarning: To copy construct from a tensor, it is recommended to use sourceTensor.clone().detach() or sourceTensor.clone().detach().requires_grad_(True), rather than torch.tensor(sourceTensor).\n",
            "  import sys\n",
            "/usr/local/lib/python3.7/dist-packages/ipykernel_launcher.py:47: UserWarning: Implicit dimension choice for softmax has been deprecated. Change the call to include dim=X as an argument.\n"
          ],
          "name": "stderr"
        },
        {
          "output_type": "stream",
          "text": [
            "Test Accuracy of the model: 72.56069452980947 %\n"
          ],
          "name": "stdout"
        }
      ]
    }
  ]
}
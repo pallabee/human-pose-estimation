{
  "nbformat": 4,
  "nbformat_minor": 0,
  "metadata": {
    "colab": {
      "name": "CNN-starting-again.ipynb",
      "provenance": [],
      "collapsed_sections": []
    },
    "kernelspec": {
      "name": "python3",
      "display_name": "Python 3"
    },
    "language_info": {
      "name": "python"
    },
    "accelerator": "GPU"
  },
  "cells": [
    {
      "cell_type": "code",
      "metadata": {
        "id": "kHgvm5lcySry"
      },
      "source": [
        "import pandas as pd\n",
        "import numpy as np\n",
        "import matplotlib.pyplot as plt\n",
        "import torch\n",
        "import torchvision\n",
        "from torchvision import transforms\n",
        "import torch.nn as nn\n",
        "import torch.nn.functional as F\n",
        "from scipy.io import loadmat\n",
        "from torch.utils.data import DataLoader, Dataset\n",
        "from torch.autograd import Variable"
      ],
      "execution_count": 1,
      "outputs": []
    },
    {
      "cell_type": "code",
      "metadata": {
        "id": "x-KCQc0nykYn"
      },
      "source": [
        "!wget http://ufldl.stanford.edu/housenumbers/train_32x32.mat\n",
        "!wget http://ufldl.stanford.edu/housenumbers/test_32x32.mat"
      ],
      "execution_count": 2,
      "outputs": []
    },
    {
      "cell_type": "code",
      "metadata": {
        "id": "aHe2wbM_ytL-"
      },
      "source": [
        "class SVHN_dataset(Dataset):\n",
        "\n",
        "    # def __init__(self, data,transform):\n",
        "    def __init__(self, data):  \n",
        "        # Transform data to Torch Tensors\n",
        "        self.images = torch.tensor(data['X']).permute([3,2,0,1])\n",
        "        self.labels = torch.tensor(data['y'])\n",
        "        self.size = self.labels.shape[0]\n",
        "\n",
        "        # replace label 10 with label 0\n",
        "        self.labels[self.labels==10] = 0\n",
        "        # convert to float and normalize images to 0..1 range\n",
        "        self.images = torch.FloatTensor(self.images/255.)\n",
        "        # self.transform = transform\n",
        "\n",
        "    def __len__(self):\n",
        "        return self.size\n",
        "\n",
        "    def __getitem__(self, idx):\n",
        "        return self.images[idx], self.labels[idx]"
      ],
      "execution_count": 3,
      "outputs": []
    },
    {
      "cell_type": "code",
      "metadata": {
        "id": "a1Khoyr-yzG2"
      },
      "source": [
        "class CNN(nn.Module):\n",
        "  def __init__(self):\n",
        "        super(CNN,self).__init__()\n",
        "        #Convolution layer 1\n",
        "        self.layer1=nn.Conv2d(in_channels=3,out_channels=6, kernel_size=5,stride=1, padding=2)\n",
        "        nn.init.normal_(self.layer1.weight, std=0.001)\n",
        "        nn.init.constant_(self.layer1.bias, 0)\n",
        "        self.batch_norm1 = nn.BatchNorm2d(6)\n",
        "        self.relu1= nn.ReLU()\n",
        "        self.maxpool1= nn.MaxPool2d(kernel_size=2,stride=2)\n",
        "\n",
        "        #Convolution layer 2\n",
        "        self.layer2=nn.Conv2d(in_channels=6,out_channels=12, kernel_size=3,stride=1, padding=1)\n",
        "        nn.init.normal_(self.layer2.weight, std=0.001)\n",
        "        nn.init.constant_(self.layer2.bias, 0)\n",
        "        self.batch_norm2 = nn.BatchNorm2d(12)\n",
        "        self.relu2= nn.ReLU()\n",
        "        self.maxpool2= nn.MaxPool2d(kernel_size=2,stride=2)\n",
        "        \n",
        "        #Convolution layer 3\n",
        "        self.layer3=nn.Conv2d(in_channels=12,out_channels=24, kernel_size=3,stride=1, padding=1)\n",
        "        nn.init.normal_(self.layer3.weight, std=0.001)\n",
        "        nn.init.constant_(self.layer3.bias, 0)\n",
        "        self.batch_norm3 = nn.BatchNorm2d(24)\n",
        "        self.relu3= nn.ReLU()\n",
        "        self.maxpool3= nn.MaxPool2d(kernel_size=2,stride=2)\n",
        "        \n",
        "        ### fully connected layer\n",
        "        self.fc_input_size = 24*4*4\n",
        "        self.fc_output = nn.Linear(self.fc_input_size, 10)\n",
        "        nn.init.normal_(self.fc_output.weight, std=0.001)\n",
        "        nn.init.constant_(self.fc_output.bias, 0)\n",
        "        \n",
        "  def forward(self,x):\n",
        "        # conv layer\n",
        "        x = self.layer1(x)\n",
        "        x = self.batch_norm1(x)\n",
        "        x = self.relu1(x)\n",
        "        x = self.maxpool1(x)\n",
        "        \n",
        "        x = self.layer2(x)\n",
        "        x = self.batch_norm2(x)\n",
        "        x = self.relu2(x)\n",
        "        x = self.maxpool2(x)\n",
        "        \n",
        "        x = self.layer3(x)\n",
        "        x = self.batch_norm3(x)\n",
        "        x = self.relu3(x)\n",
        "        x = self.maxpool3(x)\n",
        "        \n",
        "        # final layer\n",
        "        x = x.view(-1, self.fc_input_size)\n",
        "        x = self.fc_output(x)\n",
        "        return(x)"
      ],
      "execution_count": 15,
      "outputs": []
    },
    {
      "cell_type": "code",
      "metadata": {
        "id": "WJtmZPq6G2KY"
      },
      "source": [
        "def get_accuracy(model,dataloader):\n",
        "  model.eval()\n",
        "  with torch.no_grad():\n",
        "    correct = 0\n",
        "    batches = 0\n",
        "    for X_test, y_test in testSVHN_loader:\n",
        "        X_test_tensor = torch.tensor(X_test, dtype = torch.float)\n",
        "        y_test_tensor = torch.tensor(y_test, dtype = torch.long)\n",
        "        images, labels = Variable(X_test_tensor).to(device), Variable(y_test_tensor).to(device)\n",
        "        outputs = model(images)\n",
        "        target = labels.squeeze()\n",
        "        loss = lossfunc(outputs, target)\n",
        "        _, predicted = torch.max(outputs.data, 1)\n",
        "        batches += labels.size(0)\n",
        "        correct += (predicted == target).sum().item()\n",
        "\n",
        "    # return 100*correct/batches\n",
        "    return loss.item(),100*correct/batches"
      ],
      "execution_count": 5,
      "outputs": []
    },
    {
      "cell_type": "code",
      "metadata": {
        "id": "1LtrStvF011h"
      },
      "source": [
        "# transform = transforms.Compose(\n",
        "#       [\n",
        "#         transforms.ToTensor(),\n",
        "#         transforms.Normalize([0.5, 0.5, 0.5], [0.5, 0.5, 0.5])\n",
        "#         ]\n",
        "#     )"
      ],
      "execution_count": 6,
      "outputs": []
    },
    {
      "cell_type": "code",
      "metadata": {
        "id": "0dHaa_bM1GHt"
      },
      "source": [
        "train = loadmat('train_32x32.mat')\n",
        "test = loadmat('test_32x32.mat')"
      ],
      "execution_count": 7,
      "outputs": []
    },
    {
      "cell_type": "code",
      "metadata": {
        "id": "aNDsNpsi1GzJ",
        "colab": {
          "base_uri": "https://localhost:8080/"
        },
        "outputId": "39a1c23f-4e2a-4530-9124-33d8a9300389"
      },
      "source": [
        "print(train['X'].shape)"
      ],
      "execution_count": 8,
      "outputs": [
        {
          "output_type": "stream",
          "name": "stdout",
          "text": [
            "(32, 32, 3, 73257)\n"
          ]
        }
      ]
    },
    {
      "cell_type": "code",
      "metadata": {
        "id": "X9u7Y_OT1L_M"
      },
      "source": [
        "# train_SVHNdataset = SVHN_dataset(data = train, transform = transform)\n",
        "# test_SVHNdataset = SVHN_dataset(data = test, transform = transform)\n",
        "train_SVHNdataset = SVHN_dataset(data = train)\n",
        "test_SVHNdataset = SVHN_dataset(data = test)"
      ],
      "execution_count": 9,
      "outputs": []
    },
    {
      "cell_type": "code",
      "metadata": {
        "id": "KZhptBih1d-M"
      },
      "source": [
        "params = {'batch_size': 512,\n",
        "          'shuffle': True,\n",
        "          'num_workers': 2,\n",
        "          'pin_memory':True}"
      ],
      "execution_count": 10,
      "outputs": []
    },
    {
      "cell_type": "code",
      "metadata": {
        "id": "3bpHge941gyd"
      },
      "source": [
        "trainSVHN_loader = DataLoader(train_SVHNdataset, **params)\n",
        "testSVHN_loader = DataLoader(test_SVHNdataset, **params)"
      ],
      "execution_count": 11,
      "outputs": []
    },
    {
      "cell_type": "code",
      "metadata": {
        "id": "OB3qSLSk1mis",
        "colab": {
          "base_uri": "https://localhost:8080/"
        },
        "outputId": "d26c9b33-2e25-4a05-d71e-57718d9f7199"
      },
      "source": [
        "model = CNN()\n",
        "device = torch.device(\"cuda:0\" if torch.cuda.is_available() else cpu)\n",
        "print(device)"
      ],
      "execution_count": 16,
      "outputs": [
        {
          "output_type": "stream",
          "name": "stdout",
          "text": [
            "cuda:0\n"
          ]
        }
      ]
    },
    {
      "cell_type": "code",
      "metadata": {
        "id": "d8iPAFY21uYp",
        "colab": {
          "base_uri": "https://localhost:8080/"
        },
        "outputId": "2a493b0f-1a4c-4d48-c230-9b1fd1e80353"
      },
      "source": [
        "model.to(device)"
      ],
      "execution_count": 17,
      "outputs": [
        {
          "output_type": "execute_result",
          "data": {
            "text/plain": [
              "CNN(\n",
              "  (layer1): Conv2d(3, 6, kernel_size=(5, 5), stride=(1, 1), padding=(2, 2))\n",
              "  (batch_norm1): BatchNorm2d(6, eps=1e-05, momentum=0.1, affine=True, track_running_stats=True)\n",
              "  (relu1): ReLU()\n",
              "  (maxpool1): MaxPool2d(kernel_size=2, stride=2, padding=0, dilation=1, ceil_mode=False)\n",
              "  (layer2): Conv2d(6, 12, kernel_size=(3, 3), stride=(1, 1), padding=(1, 1))\n",
              "  (batch_norm2): BatchNorm2d(12, eps=1e-05, momentum=0.1, affine=True, track_running_stats=True)\n",
              "  (relu2): ReLU()\n",
              "  (maxpool2): MaxPool2d(kernel_size=2, stride=2, padding=0, dilation=1, ceil_mode=False)\n",
              "  (layer3): Conv2d(12, 24, kernel_size=(3, 3), stride=(1, 1), padding=(1, 1))\n",
              "  (batch_norm3): BatchNorm2d(24, eps=1e-05, momentum=0.1, affine=True, track_running_stats=True)\n",
              "  (relu3): ReLU()\n",
              "  (maxpool3): MaxPool2d(kernel_size=2, stride=2, padding=0, dilation=1, ceil_mode=False)\n",
              "  (fc_output): Linear(in_features=384, out_features=10, bias=True)\n",
              ")"
            ]
          },
          "metadata": {},
          "execution_count": 17
        }
      ]
    },
    {
      "cell_type": "code",
      "metadata": {
        "id": "Y4HM2oKO1y1o"
      },
      "source": [
        "learning_rate = 0.001\n",
        "lossfunc = nn.CrossEntropyLoss()\n",
        "optimizer = torch.optim.Adam(model.parameters(),lr=learning_rate)"
      ],
      "execution_count": 18,
      "outputs": []
    },
    {
      "cell_type": "code",
      "metadata": {
        "id": "bSXgq45N13wC",
        "colab": {
          "base_uri": "https://localhost:8080/"
        },
        "outputId": "bd817130-e944-4e74-9534-046b3d370a28"
      },
      "source": [
        "num_epochs = 50\n",
        "train_loss_values = []\n",
        "val_loss_values = []\n",
        "training_loss = 0\n",
        "validation_loss = 0\n",
        "for epoch in range(num_epochs):\n",
        "    # Training\n",
        "    # training_loss = 0\n",
        "    model.train()\n",
        "    for X_train, y_train in trainSVHN_loader:\n",
        "      # Transfer to GPU\n",
        "      X_train_tensor = torch.tensor(X_train, dtype = torch.float)\n",
        "      y_train_tensor = torch.tensor(y_train, dtype = torch.long)\n",
        "\n",
        "      images, labels = Variable(X_train_tensor).to(device), Variable(y_train_tensor).to(device)\n",
        "\n",
        "      # model computation\n",
        "      optimizer.zero_grad()\n",
        "      outputs = model(images)\n",
        "      target = labels.squeeze()\n",
        "      loss = lossfunc(outputs, target)\n",
        "      \n",
        "      loss.backward()\n",
        "      optimizer.step()\n",
        "\n",
        "      # training_loss += loss.item()\n",
        "    # training_loss /= len(trainSVHN_loader)\n",
        "    if epoch%10==0 :\n",
        "      train_loss_values.append(loss.item())\n",
        "\n",
        "      val_loss,val_acc = get_accuracy(model,testSVHN_loader)\n",
        "    # validation_loss += val_loss\n",
        "    # validation_loss /= len(testSVHN_loader)\n",
        "      val_loss_values.append(val_loss)\n",
        "      print('Epoch -',epoch, 'training loss - ', loss.item(), 'validation loss -', val_loss, 'validation acc -', val_acc)\n",
        "print('Finished Training')"
      ],
      "execution_count": 19,
      "outputs": [
        {
          "metadata": {
            "tags": null
          },
          "name": "stderr",
          "output_type": "stream",
          "text": [
            "/usr/local/lib/python3.7/dist-packages/ipykernel_launcher.py:12: UserWarning: To copy construct from a tensor, it is recommended to use sourceTensor.clone().detach() or sourceTensor.clone().detach().requires_grad_(True), rather than torch.tensor(sourceTensor).\n",
            "  if sys.path[0] == '':\n",
            "/usr/local/lib/python3.7/dist-packages/ipykernel_launcher.py:13: UserWarning: To copy construct from a tensor, it is recommended to use sourceTensor.clone().detach() or sourceTensor.clone().detach().requires_grad_(True), rather than torch.tensor(sourceTensor).\n",
            "  del sys.path[0]\n",
            "/usr/local/lib/python3.7/dist-packages/torch/nn/functional.py:718: UserWarning: Named tensors and all their associated APIs are an experimental feature and subject to change. Please do not use them for anything important until they are released as stable. (Triggered internally at  /pytorch/c10/core/TensorImpl.h:1156.)\n",
            "  return torch.max_pool2d(input, kernel_size, stride, padding, dilation, ceil_mode)\n",
            "/usr/local/lib/python3.7/dist-packages/ipykernel_launcher.py:7: UserWarning: To copy construct from a tensor, it is recommended to use sourceTensor.clone().detach() or sourceTensor.clone().detach().requires_grad_(True), rather than torch.tensor(sourceTensor).\n",
            "  import sys\n",
            "/usr/local/lib/python3.7/dist-packages/ipykernel_launcher.py:8: UserWarning: To copy construct from a tensor, it is recommended to use sourceTensor.clone().detach() or sourceTensor.clone().detach().requires_grad_(True), rather than torch.tensor(sourceTensor).\n",
            "  \n"
          ]
        },
        {
          "output_type": "stream",
          "name": "stdout",
          "text": [
            "Epoch - 0 training loss -  0.7207133769989014 validation loss - 0.85723876953125 validation acc - 73.80147510755992\n",
            "Epoch - 10 training loss -  0.26841115951538086 validation loss - 0.49972063302993774 validation acc - 85.87891825445605\n",
            "Epoch - 20 training loss -  0.28804707527160645 validation loss - 0.49190574884414673 validation acc - 85.1720958819914\n",
            "Epoch - 30 training loss -  0.4429755210876465 validation loss - 0.4121464490890503 validation acc - 88.74078057775046\n",
            "Epoch - 40 training loss -  0.28703072667121887 validation loss - 0.3867317736148834 validation acc - 88.84065765212047\n",
            "Finished Training\n"
          ]
        }
      ]
    },
    {
      "cell_type": "code",
      "metadata": {
        "colab": {
          "base_uri": "https://localhost:8080/"
        },
        "id": "QnO5NS2Bta41",
        "outputId": "36119465-2777-4ec0-f1aa-ce691e19c310"
      },
      "source": [
        "train_loss_values"
      ],
      "execution_count": 20,
      "outputs": [
        {
          "output_type": "execute_result",
          "data": {
            "text/plain": [
              "[0.7207133769989014,\n",
              " 0.26841115951538086,\n",
              " 0.28804707527160645,\n",
              " 0.4429755210876465,\n",
              " 0.28703072667121887]"
            ]
          },
          "metadata": {},
          "execution_count": 20
        }
      ]
    },
    {
      "cell_type": "code",
      "metadata": {
        "colab": {
          "base_uri": "https://localhost:8080/"
        },
        "id": "ptQ36f6vteDZ",
        "outputId": "99ac1ad1-1b2d-4038-8bd8-bce1ddf8a181"
      },
      "source": [
        "val_loss_values"
      ],
      "execution_count": 21,
      "outputs": [
        {
          "output_type": "execute_result",
          "data": {
            "text/plain": [
              "[0.85723876953125,\n",
              " 0.49972063302993774,\n",
              " 0.49190574884414673,\n",
              " 0.4121464490890503,\n",
              " 0.3867317736148834]"
            ]
          },
          "metadata": {},
          "execution_count": 21
        }
      ]
    },
    {
      "cell_type": "code",
      "metadata": {
        "colab": {
          "base_uri": "https://localhost:8080/",
          "height": 350
        },
        "id": "2w-F0l8IramB",
        "outputId": "5f65b61d-4c2b-4e0a-e961-f6b5a9ec4d1d"
      },
      "source": [
        "import matplotlib.pyplot as plt\n",
        "\n",
        "plt.figure(figsize=(10,5))\n",
        "plt.title(\"Training and Validation Loss\")\n",
        "\n",
        "plt.plot(train_loss_values,label=\"train\")\n",
        "plt.plot(val_loss_values,label=\"val\")\n",
        "plt.xlabel(\"Epochs\")\n",
        "plt.ylabel(\"Loss\")\n",
        "plt.legend()\n",
        "plt.show()"
      ],
      "execution_count": 22,
      "outputs": [
        {
          "output_type": "display_data",
          "data": {
            "image/png": "[encoded data removed]",
            "text/plain": [
              "<Figure size 720x360 with 1 Axes>"
            ]
          },
          "metadata": {
            "needs_background": "light"
          }
        }
      ]
    }
  ]
}
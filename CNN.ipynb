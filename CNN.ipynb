{
  "nbformat": 4,
  "nbformat_minor": 0,
  "metadata": {
    "colab": {
      "name": "CNN-starting-again.ipynb",
      "provenance": [],
      "collapsed_sections": []
    },
    "kernelspec": {
      "name": "python3",
      "display_name": "Python 3"
    },
    "language_info": {
      "name": "python"
    },
    "accelerator": "GPU"
  },
  "cells": [
    {
      "cell_type": "code",
      "metadata": {
        "id": "kHgvm5lcySry"
      },
      "source": [
        "import pandas as pd\n",
        "import numpy as np\n",
        "import matplotlib.pyplot as plt\n",
        "import torch\n",
        "import torchvision\n",
        "from torchvision import transforms\n",
        "import torch.nn as nn\n",
        "import torch.nn.functional as F\n",
        "from scipy.io import loadmat\n",
        "from torch.utils.data import DataLoader, Dataset\n",
        "from torch.autograd import Variable"
      ],
      "execution_count": 1,
      "outputs": []
    },
    {
      "cell_type": "code",
      "metadata": {
        "id": "x-KCQc0nykYn",
        "colab": {
          "base_uri": "https://localhost:8080/"
        },
        "outputId": "9f3a513c-ff13-4c5f-a434-1353e68dd8c0"
      },
      "source": [
        "!wget http://ufldl.stanford.edu/housenumbers/train_32x32.mat\n",
        "!wget http://ufldl.stanford.edu/housenumbers/test_32x32.mat"
      ],
      "execution_count": 2,
      "outputs": [
        {
          "output_type": "stream",
          "name": "stdout",
          "text": [
            "--2021-09-09 08:19:58--  http://ufldl.stanford.edu/housenumbers/train_32x32.mat\n",
            "Resolving ufldl.stanford.edu (ufldl.stanford.edu)... 171.64.68.10\n",
            "Connecting to ufldl.stanford.edu (ufldl.stanford.edu)|171.64.68.10|:80... connected.\n",
            "HTTP request sent, awaiting response... 200 OK\n",
            "Length: 182040794 (174M) [text/plain]\n",
            "Saving to: ‘train_32x32.mat’\n",
            "\n",
            "train_32x32.mat     100%[===================>] 173.61M  6.44MB/s    in 18s     \n",
            "\n",
            "2021-09-09 08:20:16 (9.92 MB/s) - ‘train_32x32.mat’ saved [182040794/182040794]\n",
            "\n",
            "--2021-09-09 08:20:16--  http://ufldl.stanford.edu/housenumbers/test_32x32.mat\n",
            "Resolving ufldl.stanford.edu (ufldl.stanford.edu)... 171.64.68.10\n",
            "Connecting to ufldl.stanford.edu (ufldl.stanford.edu)|171.64.68.10|:80... connected.\n",
            "HTTP request sent, awaiting response... 200 OK\n",
            "Length: 64275384 (61M) [text/plain]\n",
            "Saving to: ‘test_32x32.mat’\n",
            "\n",
            "test_32x32.mat      100%[===================>]  61.30M  3.92MB/s    in 16s     \n",
            "\n",
            "2021-09-09 08:20:33 (3.79 MB/s) - ‘test_32x32.mat’ saved [64275384/64275384]\n",
            "\n"
          ]
        }
      ]
    },
    {
      "cell_type": "code",
      "metadata": {
        "id": "aHe2wbM_ytL-"
      },
      "source": [
        "class SVHN_dataset(Dataset):\n",
        "\n",
        "    # def __init__(self, data,transform):\n",
        "    def __init__(self, data):  \n",
        "        # Transform data to Torch Tensors\n",
        "        self.images = torch.tensor(data['X']).permute([3,2,0,1])\n",
        "        self.labels = torch.tensor(data['y'])\n",
        "        self.size = self.labels.shape[0]\n",
        "\n",
        "        # replace label 10 with label 0\n",
        "        self.labels[self.labels==10] = 0\n",
        "        # convert to float and normalize images to 0..1 range\n",
        "        self.images = torch.FloatTensor(self.images/255.)\n",
        "        # self.transform = transform\n",
        "\n",
        "    def __len__(self):\n",
        "        return self.size\n",
        "\n",
        "    def __getitem__(self, idx):\n",
        "        return self.images[idx], self.labels[idx]"
      ],
      "execution_count": 3,
      "outputs": []
    },
    {
      "cell_type": "code",
      "metadata": {
        "id": "a1Khoyr-yzG2"
      },
      "source": [
        "class CNN(nn.Module):\n",
        "  def __init__(self):\n",
        "        super(CNN,self).__init__()\n",
        "        #Convolution 1\n",
        "        self.conv1=nn.Conv2d(in_channels=3,out_channels=6, kernel_size=5,stride=1, padding=2)\n",
        "        nn.init.normal_(self.conv1.weight, std=0.001)\n",
        "        nn.init.constant_(self.conv1.bias, 0)\n",
        "        self.bn1 = nn.BatchNorm2d(6)\n",
        "        self.relu1= nn.ReLU()\n",
        "        self.maxpool1= nn.MaxPool2d(kernel_size=2,stride=2)\n",
        "\n",
        "        #Convolution 2\n",
        "        self.conv2=nn.Conv2d(in_channels=6,out_channels=12, kernel_size=3,stride=1, padding=1)\n",
        "        nn.init.normal_(self.conv2.weight, std=0.001)\n",
        "        nn.init.constant_(self.conv2.bias, 0)\n",
        "        self.bn2 = nn.BatchNorm2d(12)\n",
        "        self.relu2= nn.ReLU()\n",
        "        self.maxpool2= nn.MaxPool2d(kernel_size=2,stride=2)\n",
        "        \n",
        "        #Convolution 3\n",
        "        self.conv3=nn.Conv2d(in_channels=12,out_channels=24, kernel_size=3,stride=1, padding=1)\n",
        "        nn.init.normal_(self.conv3.weight, std=0.001)\n",
        "        nn.init.constant_(self.conv3.bias, 0)\n",
        "        self.bn3 = nn.BatchNorm2d(24)\n",
        "        self.relu3= nn.ReLU()\n",
        "        self.maxpool3= nn.MaxPool2d(kernel_size=2,stride=2)\n",
        "        \n",
        "        ### fully connected layer\n",
        "        self.fc_input_size = 24*4*4\n",
        "        self.fc4 = nn.Linear(self.fc_input_size, 10)\n",
        "        nn.init.normal_(self.fc4.weight, std=0.001)\n",
        "        nn.init.constant_(self.fc4.bias, 0)\n",
        "        \n",
        "  def forward(self,x):\n",
        "        # conv layer\n",
        "        x = self.conv1(x)\n",
        "        x = self.bn1(x)\n",
        "        x = self.relu1(x)\n",
        "        x = self.maxpool1(x)\n",
        "        \n",
        "        x = self.conv2(x)\n",
        "        x = self.bn2(x)\n",
        "        x = self.relu2(x)\n",
        "        x = self.maxpool2(x)\n",
        "        \n",
        "        x = self.conv3(x)\n",
        "        x = self.bn3(x)\n",
        "        x = self.relu3(x)\n",
        "        x = self.maxpool3(x)\n",
        "        \n",
        "        # final layer\n",
        "        x = x.view(-1, self.fc_input_size)\n",
        "        x = self.fc4(x)\n",
        "        return(x)"
      ],
      "execution_count": 14,
      "outputs": []
    },
    {
      "cell_type": "code",
      "metadata": {
        "id": "WJtmZPq6G2KY"
      },
      "source": [
        "def get_accuracy(model,dataloader):\n",
        "  model.eval()\n",
        "  with torch.no_grad():\n",
        "    correct = 0\n",
        "    batches = 0\n",
        "    for X_test, y_test in testSVHN_loader:\n",
        "        X_test_tensor = torch.tensor(X_test, dtype = torch.float)\n",
        "        y_test_tensor = torch.tensor(y_test, dtype = torch.long)\n",
        "        images, labels = Variable(X_test_tensor).to(device), Variable(y_test_tensor).to(device)\n",
        "        outputs = model(images)\n",
        "        target = labels.squeeze()\n",
        "        loss = lossfunc(outputs, target)\n",
        "        _, predicted = torch.max(outputs.data, 1)\n",
        "        batches += labels.size(0)\n",
        "        correct += (predicted == target).sum().item()\n",
        "\n",
        "    # return 100*correct/batches\n",
        "    return loss.item(),100*correct/batches"
      ],
      "execution_count": 5,
      "outputs": []
    },
    {
      "cell_type": "code",
      "metadata": {
        "id": "1LtrStvF011h"
      },
      "source": [
        "# transform = transforms.Compose(\n",
        "#       [\n",
        "#         transforms.ToTensor(),\n",
        "#         transforms.Normalize([0.5, 0.5, 0.5], [0.5, 0.5, 0.5])\n",
        "#         ]\n",
        "#     )"
      ],
      "execution_count": 6,
      "outputs": []
    },
    {
      "cell_type": "code",
      "metadata": {
        "id": "0dHaa_bM1GHt"
      },
      "source": [
        "train = loadmat('train_32x32.mat')\n",
        "test = loadmat('test_32x32.mat')"
      ],
      "execution_count": 7,
      "outputs": []
    },
    {
      "cell_type": "code",
      "metadata": {
        "id": "aNDsNpsi1GzJ",
        "colab": {
          "base_uri": "https://localhost:8080/"
        },
        "outputId": "75a82ddd-f1d1-4285-8678-333e34210acd"
      },
      "source": [
        "print(train['X'].shape)"
      ],
      "execution_count": 8,
      "outputs": [
        {
          "output_type": "stream",
          "name": "stdout",
          "text": [
            "(32, 32, 3, 73257)\n"
          ]
        }
      ]
    },
    {
      "cell_type": "code",
      "metadata": {
        "id": "X9u7Y_OT1L_M"
      },
      "source": [
        "# train_SVHNdataset = SVHN_dataset(data = train, transform = transform)\n",
        "# test_SVHNdataset = SVHN_dataset(data = test, transform = transform)\n",
        "train_SVHNdataset = SVHN_dataset(data = train)\n",
        "test_SVHNdataset = SVHN_dataset(data = test)"
      ],
      "execution_count": 9,
      "outputs": []
    },
    {
      "cell_type": "code",
      "metadata": {
        "id": "KZhptBih1d-M"
      },
      "source": [
        "params = {'batch_size': 512,\n",
        "          'shuffle': True,\n",
        "          'num_workers': 2,\n",
        "          'pin_memory':True}"
      ],
      "execution_count": 10,
      "outputs": []
    },
    {
      "cell_type": "code",
      "metadata": {
        "id": "3bpHge941gyd"
      },
      "source": [
        "trainSVHN_loader = DataLoader(train_SVHNdataset, **params)\n",
        "testSVHN_loader = DataLoader(test_SVHNdataset, **params)"
      ],
      "execution_count": 11,
      "outputs": []
    },
    {
      "cell_type": "code",
      "metadata": {
        "id": "OB3qSLSk1mis",
        "colab": {
          "base_uri": "https://localhost:8080/"
        },
        "outputId": "6be00b9a-d2f5-46f7-cc98-f1910df45db9"
      },
      "source": [
        "model = CNN()\n",
        "device = torch.device(\"cuda:0\" if torch.cuda.is_available() else cpu)\n",
        "print(device)"
      ],
      "execution_count": 15,
      "outputs": [
        {
          "output_type": "stream",
          "name": "stdout",
          "text": [
            "cuda:0\n"
          ]
        }
      ]
    },
    {
      "cell_type": "code",
      "metadata": {
        "id": "d8iPAFY21uYp",
        "colab": {
          "base_uri": "https://localhost:8080/"
        },
        "outputId": "e33a03ab-7730-4b12-e7d7-d7a3dfb03f77"
      },
      "source": [
        "model.to(device)"
      ],
      "execution_count": 16,
      "outputs": [
        {
          "output_type": "execute_result",
          "data": {
            "text/plain": [
              "CNN(\n",
              "  (conv1): Conv2d(3, 6, kernel_size=(5, 5), stride=(1, 1), padding=(2, 2))\n",
              "  (bn1): BatchNorm2d(6, eps=1e-05, momentum=0.1, affine=True, track_running_stats=True)\n",
              "  (relu1): ReLU()\n",
              "  (maxpool1): MaxPool2d(kernel_size=2, stride=2, padding=0, dilation=1, ceil_mode=False)\n",
              "  (conv2): Conv2d(6, 12, kernel_size=(3, 3), stride=(1, 1), padding=(1, 1))\n",
              "  (bn2): BatchNorm2d(12, eps=1e-05, momentum=0.1, affine=True, track_running_stats=True)\n",
              "  (relu2): ReLU()\n",
              "  (maxpool2): MaxPool2d(kernel_size=2, stride=2, padding=0, dilation=1, ceil_mode=False)\n",
              "  (conv3): Conv2d(12, 24, kernel_size=(3, 3), stride=(1, 1), padding=(1, 1))\n",
              "  (bn3): BatchNorm2d(24, eps=1e-05, momentum=0.1, affine=True, track_running_stats=True)\n",
              "  (relu3): ReLU()\n",
              "  (maxpool3): MaxPool2d(kernel_size=2, stride=2, padding=0, dilation=1, ceil_mode=False)\n",
              "  (fc4): Linear(in_features=384, out_features=10, bias=True)\n",
              ")"
            ]
          },
          "metadata": {},
          "execution_count": 16
        }
      ]
    },
    {
      "cell_type": "code",
      "metadata": {
        "id": "Y4HM2oKO1y1o"
      },
      "source": [
        "learning_rate = 0.001\n",
        "lossfunc = nn.CrossEntropyLoss()\n",
        "optimizer = torch.optim.Adam(model.parameters(),lr=learning_rate)"
      ],
      "execution_count": 17,
      "outputs": []
    },
    {
      "cell_type": "code",
      "metadata": {
        "id": "bSXgq45N13wC",
        "colab": {
          "base_uri": "https://localhost:8080/"
        },
        "outputId": "10123729-77d5-41da-b883-ecc9a79f71f4"
      },
      "source": [
        "num_epochs = 50\n",
        "train_loss_values = []\n",
        "val_loss_values = []\n",
        "training_loss = 0\n",
        "validation_loss = 0\n",
        "for epoch in range(num_epochs):\n",
        "    # Training\n",
        "    # training_loss = 0\n",
        "    model.train()\n",
        "    for X_train, y_train in trainSVHN_loader:\n",
        "      # Transfer to GPU\n",
        "      X_train_tensor = torch.tensor(X_train, dtype = torch.float)\n",
        "      y_train_tensor = torch.tensor(y_train, dtype = torch.long)\n",
        "\n",
        "      images, labels = Variable(X_train_tensor).to(device), Variable(y_train_tensor).to(device)\n",
        "\n",
        "      # model computation\n",
        "      optimizer.zero_grad()\n",
        "      outputs = model(images)\n",
        "      target = labels.squeeze()\n",
        "      loss = lossfunc(outputs, target)\n",
        "      \n",
        "      loss.backward()\n",
        "      optimizer.step()\n",
        "\n",
        "      # training_loss += loss.item()\n",
        "    # training_loss /= len(trainSVHN_loader)\n",
        "    if epoch%10==0 :\n",
        "      train_loss_values.append(loss.item())\n",
        "\n",
        "      val_loss,val_acc = get_accuracy(model,testSVHN_loader)\n",
        "    # validation_loss += val_loss\n",
        "    # validation_loss /= len(testSVHN_loader)\n",
        "      val_loss_values.append(val_loss)\n",
        "      print('Epoch -',epoch, 'training loss - ', loss.item(), 'validation loss -', val_loss, 'validation acc -', val_acc)\n",
        "print('Finished Training')"
      ],
      "execution_count": 18,
      "outputs": [
        {
          "output_type": "stream",
          "name": "stderr",
          "text": [
            "/usr/local/lib/python3.7/dist-packages/ipykernel_launcher.py:12: UserWarning: To copy construct from a tensor, it is recommended to use sourceTensor.clone().detach() or sourceTensor.clone().detach().requires_grad_(True), rather than torch.tensor(sourceTensor).\n",
            "  if sys.path[0] == '':\n",
            "/usr/local/lib/python3.7/dist-packages/ipykernel_launcher.py:13: UserWarning: To copy construct from a tensor, it is recommended to use sourceTensor.clone().detach() or sourceTensor.clone().detach().requires_grad_(True), rather than torch.tensor(sourceTensor).\n",
            "  del sys.path[0]\n",
            "/usr/local/lib/python3.7/dist-packages/torch/nn/functional.py:718: UserWarning: Named tensors and all their associated APIs are an experimental feature and subject to change. Please do not use them for anything important until they are released as stable. (Triggered internally at  /pytorch/c10/core/TensorImpl.h:1156.)\n",
            "  return torch.max_pool2d(input, kernel_size, stride, padding, dilation, ceil_mode)\n",
            "/usr/local/lib/python3.7/dist-packages/ipykernel_launcher.py:7: UserWarning: To copy construct from a tensor, it is recommended to use sourceTensor.clone().detach() or sourceTensor.clone().detach().requires_grad_(True), rather than torch.tensor(sourceTensor).\n",
            "  import sys\n",
            "/usr/local/lib/python3.7/dist-packages/ipykernel_launcher.py:8: UserWarning: To copy construct from a tensor, it is recommended to use sourceTensor.clone().detach() or sourceTensor.clone().detach().requires_grad_(True), rather than torch.tensor(sourceTensor).\n",
            "  \n"
          ]
        },
        {
          "output_type": "stream",
          "name": "stdout",
          "text": [
            "Epoch - 0 training loss -  0.8059916496276855 validation loss - 0.9606804251670837 validation acc - 70.14443761524278\n",
            "Epoch - 10 training loss -  0.34396010637283325 validation loss - 0.41142693161964417 validation acc - 87.12738168408113\n",
            "Epoch - 20 training loss -  0.367438942193985 validation loss - 0.36712098121643066 validation acc - 87.59987707437\n",
            "Epoch - 30 training loss -  0.07703963667154312 validation loss - 0.45193400979042053 validation acc - 87.29256299938537\n",
            "Epoch - 40 training loss -  0.19862151145935059 validation loss - 0.4880758225917816 validation acc - 87.70743700061463\n",
            "Finished Training\n"
          ]
        }
      ]
    },
    {
      "cell_type": "code",
      "metadata": {
        "colab": {
          "base_uri": "https://localhost:8080/"
        },
        "id": "QnO5NS2Bta41",
        "outputId": "37a426fb-c804-4b48-a895-46c8d672310a"
      },
      "source": [
        "train_loss_values"
      ],
      "execution_count": 19,
      "outputs": [
        {
          "output_type": "execute_result",
          "data": {
            "text/plain": [
              "[0.8059916496276855,\n",
              " 0.34396010637283325,\n",
              " 0.367438942193985,\n",
              " 0.07703963667154312,\n",
              " 0.19862151145935059]"
            ]
          },
          "metadata": {},
          "execution_count": 19
        }
      ]
    },
    {
      "cell_type": "code",
      "metadata": {
        "colab": {
          "base_uri": "https://localhost:8080/"
        },
        "id": "ptQ36f6vteDZ",
        "outputId": "3fa69f04-cc14-499a-b580-a336f240220d"
      },
      "source": [
        "val_loss_values"
      ],
      "execution_count": 20,
      "outputs": [
        {
          "output_type": "execute_result",
          "data": {
            "text/plain": [
              "[0.9606804251670837,\n",
              " 0.41142693161964417,\n",
              " 0.36712098121643066,\n",
              " 0.45193400979042053,\n",
              " 0.4880758225917816]"
            ]
          },
          "metadata": {},
          "execution_count": 20
        }
      ]
    },
    {
      "cell_type": "code",
      "metadata": {
        "colab": {
          "base_uri": "https://localhost:8080/",
          "height": 350
        },
        "id": "2w-F0l8IramB",
        "outputId": "46c0517d-e679-4785-a80d-2d11100729a9"
      },
      "source": [
        "import matplotlib.pyplot as plt\n",
        "\n",
        "plt.figure(figsize=(10,5))\n",
        "plt.title(\"Training and Validation Loss\")\n",
        "\n",
        "plt.plot(train_loss_values,label=\"train\")\n",
        "plt.plot(val_loss_values,label=\"val\")\n",
        "plt.xlabel(\"Epochs\")\n",
        "plt.ylabel(\"Loss\")\n",
        "plt.legend()\n",
        "plt.show()"
      ],
      "execution_count": 21,
      "outputs": [
        {
          "output_type": "display_data",
          "data": {
            "image/png": "[encoded data removed]",
            "text/plain": [
              "<Figure size 720x360 with 1 Axes>"
            ]
          },
          "metadata": {
            "needs_background": "light"
          }
        }
      ]
    }
  ]
}
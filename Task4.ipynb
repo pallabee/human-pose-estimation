{
  "nbformat": 4,
  "nbformat_minor": 0,
  "metadata": {
    "colab": {
      "provenance": [],
      "collapsed_sections": []
    },
    "kernelspec": {
      "name": "python3",
      "display_name": "Python 3"
    },
    "language_info": {
      "name": "python"
    }
  },
  "cells": [
    {
      "cell_type": "code",
      "execution_count": null,
      "metadata": {
        "id": "PbawoiUJahN8"
      },
      "outputs": [],
      "source": [
        "!pip install boto3"
      ]
    },
    {
      "cell_type": "code",
      "source": [
        "# This code downloads the coco dataset from Amazon S3 in parallel.\n",
        "import boto3\n",
        "from botocore import UNSIGNED\n",
        "from botocore.client import Config\n",
        "import multiprocessing\n",
        "import subprocess\n",
        "files = ['val2017.zip', 'annotations_trainval2017.zip', 'train2017.zip']\n",
        "\n",
        "s3 = boto3.client('s3', config=Config(signature_version=UNSIGNED))\n",
        "def download_and_unzip_from_s3(file_name, bucket_name='fast-ai-coco'):\n",
        "    print(\"Downloading\", file_name)\n",
        "    s3.download_file(bucket_name, file_name, file_name)\n",
        "    print(\"Finished downloading\", file_name, \". Starting to unzip.\")\n",
        "    subprocess.run([\"unzip\", file_name])\n",
        "    print(\"Finished unzipping\", file_name)\n",
        "\n",
        "# Download in parallel\n",
        "num_cpus = multiprocessing.cpu_count()\n",
        "with multiprocessing.Pool(num_cpus) as p:\n",
        "    p.map(download_and_unzip_from_s3, files)\n",
        "\n",
        "print(\"Done transferring all datasets\")"
      ],
      "metadata": {
        "id": "sPyoMIuIa22c"
      },
      "execution_count": null,
      "outputs": []
    },
    {
      "cell_type": "code",
      "source": [
        "from pycocotools.coco import COCO\n",
        "import json\n",
        "import numpy as np\n",
        "import pandas as pd\n",
        "import skimage.io as io\n",
        "import torch\n",
        "import matplotlib.pyplot as plt\n",
        "import cv2\n",
        "from PIL import Image\n",
        "import torch\n",
        "import torchvision\n",
        "import matplotlib.pyplot as plt\n",
        "import torch.nn.functional as F\n",
        "import torchvision.transforms as T"
      ],
      "metadata": {
        "colab": {
          "base_uri": "https://localhost:8080/"
        },
        "id": "a-tBEYJncg5G",
        "outputId": "3defde42-66d4-449c-ae66-88c541073817"
      },
      "execution_count": null,
      "outputs": [
        {
          "output_type": "stream",
          "name": "stderr",
          "text": [
            "/usr/local/lib/python3.7/dist-packages/requests/__init__.py:91: RequestsDependencyWarning: urllib3 (1.26.12) or chardet (3.0.4) doesn't match a supported version!\n",
            "  RequestsDependencyWarning)\n"
          ]
        }
      ]
    },
    {
      "cell_type": "code",
      "source": [
        "def generate_heatmap_3D(image):\n",
        "  kp_img = image.copy()\n",
        "  tensor3d = torch.zeros(17, 256, 192)\n",
        "  for idx, k in enumerate(range(len(keypoint_text))):\n",
        "    x = 'x'+ str(idx)\n",
        "    y = 'y'+ str(idx)\n",
        "    v = 'v'+ str(idx)\n",
        "    text = keypoint_text[idx]\n",
        "    visible = int(keypoint_df[v])\n",
        "\n",
        "    # print(idx,int(keypoint_df[x]),int(keypoint_df[y]),int(keypoint_df[v]),text) \n",
        "    # adjusted keypoint location in resized image\n",
        "    adjusted_pt = get_scaled_point(int(keypoint_df[x]),int(keypoint_df[y]))\n",
        "    pt_x = adjusted_pt[0]\n",
        "    pt_y = adjusted_pt[1]\n",
        "    # print(idx,pt_x,pt_y)\n",
        "    if(visible == 0):\n",
        "      tensor3d[idx,pt_y,pt_x] = 0\n",
        "    else:\n",
        "      tensor3d[idx,pt_y,pt_x] = 1\n",
        "\n",
        "    # tensor3d[idx] = torch.div(tensor3d[idx], 255)\n",
        "\n",
        "    # Putting text on keypoints\n",
        "    # pt = (pt_x+5,pt_y+1)\n",
        "    # cv2.putText(kp_img,text, pt, font, scale, color_white, thickness, cv2.LINE_AA)\n",
        "    # fig, ax = plt.subplots(figsize=(10, 8))\n",
        "    # plt.imshow(tensor3d[idx].numpy(), cmap='gray')\n",
        "  return tensor3d\n",
        "\n"
      ],
      "metadata": {
        "id": "MsqTMv1zJQyX"
      },
      "execution_count": null,
      "outputs": []
    },
    {
      "cell_type": "code",
      "source": [
        "def get_scaled_point(x,y):\n",
        "  xy = np.asarray([bbox[0],bbox[1]])\n",
        "  kp = np.asarray([x,y])\n",
        "  diff = np.subtract(kp,xy)\n",
        "  return np.round(diff*scale_factor).astype(int)"
      ],
      "metadata": {
        "id": "ImAVt6c_J-yM"
      },
      "execution_count": null,
      "outputs": []
    },
    {
      "cell_type": "code",
      "source": [
        "# variable initialization\n",
        "path = '/content/'\n",
        "kp_json = path + 'annotations/person_keypoints_val2017.json'\n",
        "kp_cols= []\n",
        "img_id = 65736\n",
        "scale = 0.28\n",
        "font = cv2.FONT_HERSHEY_SIMPLEX\n",
        "thickness = 1\n",
        "color_red = (255, 0, 0)\n",
        "color_white = (255, 255, 255)\n",
        "color_blue = (0, 0, 255)\n",
        "alpha = 0.4\n",
        "resize_h = 256\n",
        "resize_w = 192"
      ],
      "metadata": {
        "id": "QZm_PooqKRsa"
      },
      "execution_count": null,
      "outputs": []
    },
    {
      "cell_type": "code",
      "source": [
        "# load annotations using coco api\n",
        "coco = COCO(kp_json)\n",
        "img_descriptor = coco.loadImgs(img_id)\n",
        "gt_ann_ids = coco.getAnnIds(imgIds=[img_id])\n",
        "gt_anns = coco.loadAnns(gt_ann_ids)"
      ],
      "metadata": {
        "colab": {
          "base_uri": "https://localhost:8080/"
        },
        "id": "LsY5yuZBKfQE",
        "outputId": "47edb74d-a1c6-43fb-d47f-d1ee3375af57"
      },
      "execution_count": null,
      "outputs": [
        {
          "output_type": "stream",
          "name": "stdout",
          "text": [
            "loading annotations into memory...\n",
            "Done (t=0.46s)\n",
            "creating index...\n",
            "index created!\n"
          ]
        }
      ]
    },
    {
      "cell_type": "code",
      "source": [
        "# get image, bounding box, keypoints \n",
        "file_name = img_descriptor[0]['file_name']\n",
        "img = io.imread(path + \"val2017/\" + file_name)\n",
        "print(img.shape)\n",
        "\n",
        "for gt in gt_anns:\n",
        "  bbox = gt['bbox']\n",
        "  keypoints = gt['keypoints'] "
      ],
      "metadata": {
        "colab": {
          "base_uri": "https://localhost:8080/"
        },
        "id": "lqemJkP3Kjsb",
        "outputId": "8789db56-ae7e-49af-ba62-54531a5d64e2"
      },
      "execution_count": null,
      "outputs": [
        {
          "output_type": "stream",
          "name": "stdout",
          "text": [
            "(427, 640, 3)\n"
          ]
        }
      ]
    },
    {
      "cell_type": "code",
      "source": [
        "# Read keypoints from json file into dataframe\n",
        "with open(kp_json, \"r\") as f:\n",
        "    data = json.load(f)\n",
        "categories = data['categories']\n",
        "for cat in categories:\n",
        "  keypoint_text = cat['keypoints']\n",
        "\n",
        "for idx, k in enumerate(range(len(keypoint_text))):\n",
        "  kp_cols.append('x'+ str(idx))\n",
        "  kp_cols.append('y'+ str(idx))\n",
        "  kp_cols.append('v'+ str(idx))\n",
        "keypoint_df = pd.DataFrame(data=[keypoints],columns=kp_cols,index=None)"
      ],
      "metadata": {
        "id": "ROVmnrmFKsDL"
      },
      "execution_count": null,
      "outputs": []
    },
    {
      "cell_type": "code",
      "source": [
        "keypoint_df"
      ],
      "metadata": {
        "colab": {
          "base_uri": "https://localhost:8080/",
          "height": 110
        },
        "id": "Sx3kQ80TcFOS",
        "outputId": "b6e58f54-7e3f-4d52-9f97-7d75fe795c09"
      },
      "execution_count": null,
      "outputs": [
        {
          "output_type": "execute_result",
          "data": {
            "text/plain": [
              "    x0  y0  v0   x1  y1  v1   x2  y2  v2  x3  ...  v13  x14  y14  v14  x15  \\\n",
              "0  230  47   2  233  35   2  219  43   2   0  ...    2  235  287    2  346   \n",
              "\n",
              "   y15  v15  x16  y16  v16  \n",
              "0  356    2  244  378    2  \n",
              "\n",
              "[1 rows x 51 columns]"
            ],
            "text/html": [
              "\n",
              "  <div id=\"df-7f00eabd-7b7a-47b2-8360-9d1797126559\">\n",
              "    <div class=\"colab-df-container\">\n",
              "      <div>\n",
              "<style scoped>\n",
              "    .dataframe tbody tr th:only-of-type {\n",
              "        vertical-align: middle;\n",
              "    }\n",
              "\n",
              "    .dataframe tbody tr th {\n",
              "        vertical-align: top;\n",
              "    }\n",
              "\n",
              "    .dataframe thead th {\n",
              "        text-align: right;\n",
              "    }\n",
              "</style>\n",
              "<table border=\"1\" class=\"dataframe\">\n",
              "  <thead>\n",
              "    <tr style=\"text-align: right;\">\n",
              "      <th></th>\n",
              "      <th>x0</th>\n",
              "      <th>y0</th>\n",
              "      <th>v0</th>\n",
              "      <th>x1</th>\n",
              "      <th>y1</th>\n",
              "      <th>v1</th>\n",
              "      <th>x2</th>\n",
              "      <th>y2</th>\n",
              "      <th>v2</th>\n",
              "      <th>x3</th>\n",
              "      <th>...</th>\n",
              "      <th>v13</th>\n",
              "      <th>x14</th>\n",
              "      <th>y14</th>\n",
              "      <th>v14</th>\n",
              "      <th>x15</th>\n",
              "      <th>y15</th>\n",
              "      <th>v15</th>\n",
              "      <th>x16</th>\n",
              "      <th>y16</th>\n",
              "      <th>v16</th>\n",
              "    </tr>\n",
              "  </thead>\n",
              "  <tbody>\n",
              "    <tr>\n",
              "      <th>0</th>\n",
              "      <td>230</td>\n",
              "      <td>47</td>\n",
              "      <td>2</td>\n",
              "      <td>233</td>\n",
              "      <td>35</td>\n",
              "      <td>2</td>\n",
              "      <td>219</td>\n",
              "      <td>43</td>\n",
              "      <td>2</td>\n",
              "      <td>0</td>\n",
              "      <td>...</td>\n",
              "      <td>2</td>\n",
              "      <td>235</td>\n",
              "      <td>287</td>\n",
              "      <td>2</td>\n",
              "      <td>346</td>\n",
              "      <td>356</td>\n",
              "      <td>2</td>\n",
              "      <td>244</td>\n",
              "      <td>378</td>\n",
              "      <td>2</td>\n",
              "    </tr>\n",
              "  </tbody>\n",
              "</table>\n",
              "<p>1 rows × 51 columns</p>\n",
              "</div>\n",
              "      <button class=\"colab-df-convert\" onclick=\"convertToInteractive('df-7f00eabd-7b7a-47b2-8360-9d1797126559')\"\n",
              "              title=\"Convert this dataframe to an interactive table.\"\n",
              "              style=\"display:none;\">\n",
              "        \n",
              "  <svg xmlns=\"http://www.w3.org/2000/svg\" height=\"24px\"viewBox=\"0 0 24 24\"\n",
              "       width=\"24px\">\n",
              "    <path d=\"M0 0h24v24H0V0z\" fill=\"none\"/>\n",
              "    <path d=\"M18.56 5.44l.94 2.06.94-2.06 2.06-.94-2.06-.94-.94-2.06-.94 2.06-2.06.94zm-11 1L8.5 8.5l.94-2.06 2.06-.94-2.06-.94L8.5 2.5l-.94 2.06-2.06.94zm10 10l.94 2.06.94-2.06 2.06-.94-2.06-.94-.94-2.06-.94 2.06-2.06.94z\"/><path d=\"M17.41 7.96l-1.37-1.37c-.4-.4-.92-.59-1.43-.59-.52 0-1.04.2-1.43.59L10.3 9.45l-7.72 7.72c-.78.78-.78 2.05 0 2.83L4 21.41c.39.39.9.59 1.41.59.51 0 1.02-.2 1.41-.59l7.78-7.78 2.81-2.81c.8-.78.8-2.07 0-2.86zM5.41 20L4 18.59l7.72-7.72 1.47 1.35L5.41 20z\"/>\n",
              "  </svg>\n",
              "      </button>\n",
              "      \n",
              "  <style>\n",
              "    .colab-df-container {\n",
              "      display:flex;\n",
              "      flex-wrap:wrap;\n",
              "      gap: 12px;\n",
              "    }\n",
              "\n",
              "    .colab-df-convert {\n",
              "      background-color: #E8F0FE;\n",
              "      border: none;\n",
              "      border-radius: 50%;\n",
              "      cursor: pointer;\n",
              "      display: none;\n",
              "      fill: #1967D2;\n",
              "      height: 32px;\n",
              "      padding: 0 0 0 0;\n",
              "      width: 32px;\n",
              "    }\n",
              "\n",
              "    .colab-df-convert:hover {\n",
              "      background-color: #E2EBFA;\n",
              "      box-shadow: 0px 1px 2px rgba(60, 64, 67, 0.3), 0px 1px 3px 1px rgba(60, 64, 67, 0.15);\n",
              "      fill: #174EA6;\n",
              "    }\n",
              "\n",
              "    [theme=dark] .colab-df-convert {\n",
              "      background-color: #3B4455;\n",
              "      fill: #D2E3FC;\n",
              "    }\n",
              "\n",
              "    [theme=dark] .colab-df-convert:hover {\n",
              "      background-color: #434B5C;\n",
              "      box-shadow: 0px 1px 3px 1px rgba(0, 0, 0, 0.15);\n",
              "      filter: drop-shadow(0px 1px 2px rgba(0, 0, 0, 0.3));\n",
              "      fill: #FFFFFF;\n",
              "    }\n",
              "  </style>\n",
              "\n",
              "      <script>\n",
              "        const buttonEl =\n",
              "          document.querySelector('#df-7f00eabd-7b7a-47b2-8360-9d1797126559 button.colab-df-convert');\n",
              "        buttonEl.style.display =\n",
              "          google.colab.kernel.accessAllowed ? 'block' : 'none';\n",
              "\n",
              "        async function convertToInteractive(key) {\n",
              "          const element = document.querySelector('#df-7f00eabd-7b7a-47b2-8360-9d1797126559');\n",
              "          const dataTable =\n",
              "            await google.colab.kernel.invokeFunction('convertToInteractive',\n",
              "                                                     [key], {});\n",
              "          if (!dataTable) return;\n",
              "\n",
              "          const docLinkHtml = 'Like what you see? Visit the ' +\n",
              "            '<a target=\"_blank\" href=https://colab.research.google.com/notebooks/data_table.ipynb>data table notebook</a>'\n",
              "            + ' to learn more about interactive tables.';\n",
              "          element.innerHTML = '';\n",
              "          dataTable['output_type'] = 'display_data';\n",
              "          await google.colab.output.renderOutput(dataTable, element);\n",
              "          const docLink = document.createElement('div');\n",
              "          docLink.innerHTML = docLinkHtml;\n",
              "          element.appendChild(docLink);\n",
              "        }\n",
              "      </script>\n",
              "    </div>\n",
              "  </div>\n",
              "  "
            ]
          },
          "metadata": {},
          "execution_count": 10
        }
      ]
    },
    {
      "cell_type": "code",
      "source": [
        "len(keypoint_text)\n",
        "cat['keypoints']"
      ],
      "metadata": {
        "colab": {
          "base_uri": "https://localhost:8080/"
        },
        "id": "7aD6h2XoMB9W",
        "outputId": "dba5e54d-1975-4288-dd20-5c8341cd2018"
      },
      "execution_count": null,
      "outputs": [
        {
          "output_type": "execute_result",
          "data": {
            "text/plain": [
              "['nose',\n",
              " 'left_eye',\n",
              " 'right_eye',\n",
              " 'left_ear',\n",
              " 'right_ear',\n",
              " 'left_shoulder',\n",
              " 'right_shoulder',\n",
              " 'left_elbow',\n",
              " 'right_elbow',\n",
              " 'left_wrist',\n",
              " 'right_wrist',\n",
              " 'left_hip',\n",
              " 'right_hip',\n",
              " 'left_knee',\n",
              " 'right_knee',\n",
              " 'left_ankle',\n",
              " 'right_ankle']"
            ]
          },
          "metadata": {},
          "execution_count": 11
        }
      ]
    },
    {
      "cell_type": "code",
      "source": [
        "# Resize and crop image\n",
        "scale_factor = np.divide(np.asarray([resize_w,resize_h]), np.asarray([bbox[2],bbox[3]]))\n",
        "PIL_image = Image.fromarray(img)\n",
        "resized_img = PIL_image.resize((resize_w,resize_h), box=(int(bbox[0]),int(bbox[1]),int(bbox[0]+bbox[2]),int(bbox[1]+bbox[3])))\n",
        "img = np.array(resized_img)"
      ],
      "metadata": {
        "id": "hfALbi2LK2xC"
      },
      "execution_count": null,
      "outputs": []
    },
    {
      "cell_type": "code",
      "source": [
        "# Convert the image values to float and divide it by 255.0.\n",
        "np_resized_img = img.copy()\n",
        "np_resized_img = np_resized_img.astype('float32')\n",
        "np_resized_img /= 255.0\n",
        "print('img_shape',np_resized_img.shape)\n",
        "print(np_resized_img.min(),np_resized_img.max(),np_resized_img.shape)"
      ],
      "metadata": {
        "id": "XYnEBxJIwcMt",
        "colab": {
          "base_uri": "https://localhost:8080/"
        },
        "outputId": "0281ea43-4188-4028-d131-6d9a8a6c217a"
      },
      "execution_count": null,
      "outputs": [
        {
          "output_type": "stream",
          "name": "stdout",
          "text": [
            "img_shape (256, 192, 3)\n",
            "0.0 1.0 (256, 192, 3)\n"
          ]
        }
      ]
    },
    {
      "cell_type": "code",
      "source": [
        "transform = torchvision.transforms.Compose([\n",
        "    torchvision.transforms.ToTensor(),\n",
        "    torchvision.transforms.Normalize(\n",
        "        mean=[0.485, 0.456, 0.406],\n",
        "        std=[0.229, 0.224, 0.225],\n",
        "    ),\n",
        "])\n",
        "# Normalized image\n",
        "normalized_img = transform(np_resized_img)\n",
        "print(type(normalized_img))"
      ],
      "metadata": {
        "colab": {
          "base_uri": "https://localhost:8080/"
        },
        "id": "K1zIqqhfgzwm",
        "outputId": "bedf262e-9ac0-473e-fe22-8288889a8f6c"
      },
      "execution_count": null,
      "outputs": [
        {
          "output_type": "stream",
          "name": "stdout",
          "text": [
            "<class 'torch.Tensor'>\n"
          ]
        }
      ]
    },
    {
      "cell_type": "code",
      "source": [
        "# Generate keypoints\n",
        "heatmap_tensor = generate_heatmap_3D(img)"
      ],
      "metadata": {
        "id": "QHQrJ3ZRaH9b"
      },
      "execution_count": null,
      "outputs": []
    },
    {
      "cell_type": "code",
      "source": [
        "# Applying Gaussian blur\n",
        "transform = T.GaussianBlur((7,5), sigma = 2.0)\n",
        "heatmap_tensor = transform(heatmap_tensor)\n",
        "# print(heatmap_tensor.shape)\n",
        "for idx, k in enumerate(range(len(keypoint_text))):\n",
        "  fig1, ax1 = plt.subplots(figsize=(6, 4))\n",
        "  # print(heatmap_tensor[idx].numpy().min(),heatmap_tensor[idx].numpy().max()) \n",
        "  plt.imshow(heatmap_tensor[idx].numpy(), cmap='gray')\n",
        "  "
      ],
      "metadata": {
        "colab": {
          "base_uri": "https://localhost:8080/",
          "height": 1000
        },
        "id": "zbNcsvCRlnwd",
        "outputId": "916fa27f-35ce-4472-fa65-7648bc98ba5f"
      },
      "execution_count": null,
      "outputs": [
        {
          "output_type": "display_data",
          "data": {
            "text/plain": [
              "<Figure size 432x288 with 1 Axes>"
            ],
            "image/png": "[encoded data removed]"
          },
          "metadata": {
            "needs_background": "light"
          }
        },
        {
          "output_type": "display_data",
          "data": {
            "text/plain": [
              "<Figure size 432x288 with 1 Axes>"
            ],
            "image/png": "[encoded data removed]"
          },
          "metadata": {
            "needs_background": "light"
          }
        },
        {
          "output_type": "display_data",
          "data": {
            "text/plain": [
              "<Figure size 432x288 with 1 Axes>"
            ],
            "image/png": "[encoded data removed]"
          },
          "metadata": {
            "needs_background": "light"
          }
        },
        {
          "output_type": "display_data",
          "data": {
            "text/plain": [
              "<Figure size 432x288 with 1 Axes>"
            ],
            "image/png": "[encoded data removed]"
          },
          "metadata": {
            "needs_background": "light"
          }
        },
        {
          "output_type": "display_data",
          "data": {
            "text/plain": [
              "<Figure size 432x288 with 1 Axes>"
            ],
            "image/png": "[encoded data removed]"
          },
          "metadata": {
            "needs_background": "light"
          }
        },
        {
          "output_type": "display_data",
          "data": {
            "text/plain": [
              "<Figure size 432x288 with 1 Axes>"
            ],
            "image/png": "[encoded data removed]"
          },
          "metadata": {
            "needs_background": "light"
          }
        },
        {
          "output_type": "display_data",
          "data": {
            "text/plain": [
              "<Figure size 432x288 with 1 Axes>"
            ],
            "image/png": "[encoded data removed]"
          },
          "metadata": {
            "needs_background": "light"
          }
        },
        {
          "output_type": "display_data",
          "data": {
            "text/plain": [
              "<Figure size 432x288 with 1 Axes>"
            ],
            "image/png": "[encoded data removed]"
          },
          "metadata": {
            "needs_background": "light"
          }
        },
        {
          "output_type": "display_data",
          "data": {
            "text/plain": [
              "<Figure size 432x288 with 1 Axes>"
            ],
            "image/png": "[encoded data removed]"
          },
          "metadata": {
            "needs_background": "light"
          }
        },
        {
          "output_type": "display_data",
          "data": {
            "text/plain": [
              "<Figure size 432x288 with 1 Axes>"
            ],
            "image/png": "[encoded data removed]"
          },
          "metadata": {
            "needs_background": "light"
          }
        },
        {
          "output_type": "display_data",
          "data": {
            "text/plain": [
              "<Figure size 432x288 with 1 Axes>"
            ],
            "image/png": "[encoded data removed]"
          },
          "metadata": {
            "needs_background": "light"
          }
        },
        {
          "output_type": "display_data",
          "data": {
            "text/plain": [
              "<Figure size 432x288 with 1 Axes>"
            ],
            "image/png": "[encoded data removed]"
          },
          "metadata": {
            "needs_background": "light"
          }
        },
        {
          "output_type": "display_data",
          "data": {
            "text/plain": [
              "<Figure size 432x288 with 1 Axes>"
            ],
            "image/png": "[encoded data removed]"
          },
          "metadata": {
            "needs_background": "light"
          }
        },
        {
          "output_type": "display_data",
          "data": {
            "text/plain": [
              "<Figure size 432x288 with 1 Axes>"
            ],
            "image/png": "[encoded data removed]"
          },
          "metadata": {
            "needs_background": "light"
          }
        },
        {
          "output_type": "display_data",
          "data": {
            "text/plain": [
              "<Figure size 432x288 with 1 Axes>"
            ],
            "image/png": "[encoded data removed]"
          },
          "metadata": {
            "needs_background": "light"
          }
        },
        {
          "output_type": "display_data",
          "data": {
            "text/plain": [
              "<Figure size 432x288 with 1 Axes>"
            ],
            "image/png": "[encoded data removed]"
          },
          "metadata": {
            "needs_background": "light"
          }
        },
        {
          "output_type": "display_data",
          "data": {
            "text/plain": [
              "<Figure size 432x288 with 1 Axes>"
            ],
            "image/png": "[encoded data removed]"
          },
          "metadata": {
            "needs_background": "light"
          }
        }
      ]
    },
    {
      "cell_type": "code",
      "source": [
        "# Downsample the heatmap by factor 4\n",
        "heatmap_tensor = torch.unsqueeze(heatmap_tensor,0)\n",
        "heatmap_resized = F.interpolate(heatmap_tensor, scale_factor=0.25) \n",
        "heatmap_resized = torch.squeeze(heatmap_resized,0)\n",
        "print(heatmap_resized.shape)"
      ],
      "metadata": {
        "id": "LMEttYMrnPPM",
        "colab": {
          "base_uri": "https://localhost:8080/"
        },
        "outputId": "8a1e78ec-2b3b-4f3a-972f-1721c9fcd4cd"
      },
      "execution_count": null,
      "outputs": [
        {
          "output_type": "stream",
          "name": "stdout",
          "text": [
            "torch.Size([17, 64, 48])\n"
          ]
        }
      ]
    },
    {
      "cell_type": "code",
      "source": [
        "for idx, k in enumerate(range(len(keypoint_text))):\n",
        " \n",
        "  heatmap_2d = torch.unsqueeze(heatmap_resized[idx],0)\n",
        "  heatmap_2d = transform(heatmap_2d)\n",
        "  heatmap_resized[idx] = torch.squeeze(heatmap_2d,0)\n",
        "\n",
        "  fig1, ax1 = plt.subplots(figsize=(6, 4))\n",
        "  plt.imshow(heatmap_resized[idx].numpy(), cmap='gray')"
      ],
      "metadata": {
        "id": "BgJtkp-3ogpa",
        "colab": {
          "base_uri": "https://localhost:8080/",
          "height": 1000
        },
        "outputId": "743ccff1-ef56-4681-9b71-d6e27a3b108e"
      },
      "execution_count": null,
      "outputs": [
        {
          "output_type": "display_data",
          "data": {
            "text/plain": [
              "<Figure size 432x288 with 1 Axes>"
            ],
            "image/png": "[encoded data removed]"
          },
          "metadata": {
            "needs_background": "light"
          }
        },
        {
          "output_type": "display_data",
          "data": {
            "text/plain": [
              "<Figure size 432x288 with 1 Axes>"
            ],
            "image/png": "[encoded data removed]"
          },
          "metadata": {
            "needs_background": "light"
          }
        },
        {
          "output_type": "display_data",
          "data": {
            "text/plain": [
              "<Figure size 432x288 with 1 Axes>"
            ],
            "image/png": "[encoded data removed]"
          },
          "metadata": {
            "needs_background": "light"
          }
        },
        {
          "output_type": "display_data",
          "data": {
            "text/plain": [
              "<Figure size 432x288 with 1 Axes>"
            ],
            "image/png": "[encoded data removed]"
          },
          "metadata": {
            "needs_background": "light"
          }
        },
        {
          "output_type": "display_data",
          "data": {
            "text/plain": [
              "<Figure size 432x288 with 1 Axes>"
            ],
            "image/png": "[encoded data removed]"
          },
          "metadata": {
            "needs_background": "light"
          }
        },
        {
          "output_type": "display_data",
          "data": {
            "text/plain": [
              "<Figure size 432x288 with 1 Axes>"
            ],
            "image/png": "[encoded data removed]"
          },
          "metadata": {
            "needs_background": "light"
          }
        },
        {
          "output_type": "display_data",
          "data": {
            "text/plain": [
              "<Figure size 432x288 with 1 Axes>"
            ],
            "image/png": "[encoded data removed]"
          },
          "metadata": {
            "needs_background": "light"
          }
        },
        {
          "output_type": "display_data",
          "data": {
            "text/plain": [
              "<Figure size 432x288 with 1 Axes>"
            ],
            "image/png": "[encoded data removed]"
          },
          "metadata": {
            "needs_background": "light"
          }
        },
        {
          "output_type": "display_data",
          "data": {
            "text/plain": [
              "<Figure size 432x288 with 1 Axes>"
            ],
            "image/png": "[encoded data removed]"
          },
          "metadata": {
            "needs_background": "light"
          }
        },
        {
          "output_type": "display_data",
          "data": {
            "text/plain": [
              "<Figure size 432x288 with 1 Axes>"
            ],
            "image/png": "[encoded data removed]"
          },
          "metadata": {
            "needs_background": "light"
          }
        },
        {
          "output_type": "display_data",
          "data": {
            "text/plain": [
              "<Figure size 432x288 with 1 Axes>"
            ],
            "image/png": "[encoded data removed]"
          },
          "metadata": {
            "needs_background": "light"
          }
        },
        {
          "output_type": "display_data",
          "data": {
            "text/plain": [
              "<Figure size 432x288 with 1 Axes>"
            ],
            "image/png": "[encoded data removed]"
          },
          "metadata": {
            "needs_background": "light"
          }
        },
        {
          "output_type": "display_data",
          "data": {
            "text/plain": [
              "<Figure size 432x288 with 1 Axes>"
            ],
            "image/png": "[encoded data removed]"
          },
          "metadata": {
            "needs_background": "light"
          }
        },
        {
          "output_type": "display_data",
          "data": {
            "text/plain": [
              "<Figure size 432x288 with 1 Axes>"
            ],
            "image/png": "[encoded data removed]"
          },
          "metadata": {
            "needs_background": "light"
          }
        },
        {
          "output_type": "display_data",
          "data": {
            "text/plain": [
              "<Figure size 432x288 with 1 Axes>"
            ],
            "image/png": "[encoded data removed]"
          },
          "metadata": {
            "needs_background": "light"
          }
        },
        {
          "output_type": "display_data",
          "data": {
            "text/plain": [
              "<Figure size 432x288 with 1 Axes>"
            ],
            "image/png": "[encoded data removed]"
          },
          "metadata": {
            "needs_background": "light"
          }
        },
        {
          "output_type": "display_data",
          "data": {
            "text/plain": [
              "<Figure size 432x288 with 1 Axes>"
            ],
            "image/png": "[encoded data removed]"
          },
          "metadata": {
            "needs_background": "light"
          }
        }
      ]
    }
  ]
}